{
 "cells": [
  {
   "cell_type": "markdown",
   "metadata": {},
   "source": [
    "Create the data for the users\n"
   ]
  },
  {
   "cell_type": "code",
   "execution_count": 1,
   "metadata": {},
   "outputs": [],
   "source": [
    "users = {\n",
    "    \"Angelica\": {\n",
    "        \"Blues Traveler\": 3.5,\n",
    "        \"Broken Bells\": 2.0,\n",
    "        \"Norah Jones\": 4.5,\n",
    "        \"Phoenix\": 5.0,\n",
    "        \"Slightly Stoopid\": 1.5,\n",
    "        \"The Strokes\": 2.5,\n",
    "        \"Vampire Weekend\": 2.0,\n",
    "    },\n",
    "    \"Bill\": {\n",
    "        \"Blues Traveler\": 2.0,\n",
    "        \"Broken Bells\": 3.5,\n",
    "        \"Deadmau5\": 4.0,\n",
    "        \"Phoenix\": 2.0,\n",
    "        \"Slightly Stoopid\": 3.5,\n",
    "        \"Vampire Weekend\": 3.0,\n",
    "    },\n",
    "    \"Chan\": {\n",
    "        \"Blues Traveler\": 5.0,\n",
    "        \"Broken Bells\": 1.0,\n",
    "        \"Deadmau5\": 1.0,\n",
    "        \"Norah Jones\": 3.0,\n",
    "        \"Phoenix\": 5,\n",
    "        \"Slightly Stoopid\": 1.0,\n",
    "    },\n",
    "    \"Dan\": {\n",
    "        \"Blues Traveler\": 3.0,\n",
    "        \"Broken Bells\": 4.0,\n",
    "        \"Deadmau5\": 4.5,\n",
    "        \"Phoenix\": 3.0,\n",
    "        \"Slightly Stoopid\": 4.5,\n",
    "        \"The Strokes\": 4.0,\n",
    "        \"Vampire Weekend\": 2.0,\n",
    "    },\n",
    "    \"Hailey\": {\n",
    "        \"Broken Bells\": 4.0,\n",
    "        \"Deadmau5\": 1.0,\n",
    "        \"Norah Jones\": 4.0,\n",
    "        \"The Strokes\": 4.0,\n",
    "        \"Vampire Weekend\": 1.0,\n",
    "    },\n",
    "    \"Jordyn\": {\n",
    "        \"Broken Bells\": 4.5,\n",
    "        \"Deadmau5\": 4.0,\n",
    "        \"Norah Jones\": 5.0,\n",
    "        \"Phoenix\": 5.0,\n",
    "        \"Slightly Stoopid\": 4.5,\n",
    "        \"The Strokes\": 4.0,\n",
    "        \"Vampire Weekend\": 4.0,\n",
    "    },\n",
    "    \"Sam\": {\n",
    "        \"Blues Traveler\": 5.0,\n",
    "        \"Broken Bells\": 2.0,\n",
    "        \"Norah Jones\": 3.0,\n",
    "        \"Phoenix\": 5.0,\n",
    "        \"Slightly Stoopid\": 4.0,\n",
    "        \"The Strokes\": 5.0,\n",
    "    },\n",
    "    \"Veronica\": {\n",
    "        \"Blues Traveler\": 3.0,\n",
    "        \"Norah Jones\": 5.0,\n",
    "        \"Phoenix\": 4.0,\n",
    "        \"Slightly Stoopid\": 2.5,\n",
    "        \"The Strokes\": 3.0,\n",
    "    },\n",
    "}"
   ]
  },
  {
   "cell_type": "markdown",
   "metadata": {},
   "source": [
    "We can get the ratings of a particular user as follows:\n"
   ]
  },
  {
   "cell_type": "code",
   "execution_count": 2,
   "metadata": {},
   "outputs": [
    {
     "data": {
      "text/plain": [
       "{'Blues Traveler': 3.0,\n",
       " 'Norah Jones': 5.0,\n",
       " 'Phoenix': 4.0,\n",
       " 'Slightly Stoopid': 2.5,\n",
       " 'The Strokes': 3.0}"
      ]
     },
     "execution_count": 2,
     "metadata": {},
     "output_type": "execute_result"
    }
   ],
   "source": [
    "users[\"Veronica\"]\n",
    "{\n",
    "    \"Blues Traveler\": 3.0,\n",
    "    \"Norah Jones\": 5.0,\n",
    "    \"Phoenix\": 4.0,\n",
    "    \"Slightly Stoopid\": 2.5,\n",
    "    \"The Strokes\": 3.0,\n",
    "}"
   ]
  },
  {
   "cell_type": "markdown",
   "metadata": {},
   "source": [
    "The code to compute Manhattan distance"
   ]
  },
  {
   "cell_type": "code",
   "execution_count": 3,
   "metadata": {},
   "outputs": [],
   "source": [
    "def manhattan(rating1, rating2):\n",
    "    \"\"\"Computes the Manhattan distance. Both rating1 and rating2 are dictionaries of the form {'The Stokes':3.0, 'Slightly Stoopid':2.5...\"\"\"\n",
    "    distance =0\n",
    "    \n",
    "    for key in rating1:\n",
    "        if key in rating2:\n",
    "            distance += abs(rating1[key] - rating2[key])\n",
    "    return distance"
   ]
  },
  {
   "cell_type": "markdown",
   "metadata": {},
   "source": [
    "To test the function:"
   ]
  },
  {
   "cell_type": "code",
   "execution_count": 4,
   "metadata": {},
   "outputs": [
    {
     "data": {
      "text/plain": [
       "2.0"
      ]
     },
     "execution_count": 4,
     "metadata": {},
     "output_type": "execute_result"
    }
   ],
   "source": [
    "manhattan(users[\"Hailey\"], users[\"Veronica\"])\n"
   ]
  },
  {
   "cell_type": "code",
   "execution_count": 5,
   "metadata": {},
   "outputs": [
    {
     "data": {
      "text/plain": [
       "7.5"
      ]
     },
     "execution_count": 5,
     "metadata": {},
     "output_type": "execute_result"
    }
   ],
   "source": [
    "manhattan(users[\"Hailey\"], users[\"Jordyn\"])"
   ]
  },
  {
   "cell_type": "markdown",
   "metadata": {},
   "source": [
    "Now a function to find the closest person (actually this returns a sorted list with the closest person first):"
   ]
  },
  {
   "cell_type": "code",
   "execution_count": 6,
   "metadata": {},
   "outputs": [],
   "source": [
    "def computeNearestNeighbor(username, users):\n",
    "    \"\"\"creates a sorted list of users based on their distance to username\"\"\"\n",
    "    distances = []\n",
    "    for user in users:\n",
    "        if user != username:\n",
    "            distance = manhattan(users[user], users[username])\n",
    "            distances.append((distance, user))\n",
    "    # sort based on distance -- closest first\n",
    "    distances.sort()\n",
    "    return distances"
   ]
  },
  {
   "cell_type": "markdown",
   "metadata": {},
   "source": [
    "And just a quick test of that function:"
   ]
  },
  {
   "cell_type": "code",
   "execution_count": 7,
   "metadata": {},
   "outputs": [
    {
     "data": {
      "text/plain": [
       "[(2.0, 'Veronica'),\n",
       " (4.0, 'Chan'),\n",
       " (4.0, 'Sam'),\n",
       " (4.5, 'Dan'),\n",
       " (5.0, 'Angelica'),\n",
       " (5.5, 'Bill'),\n",
       " (7.5, 'Jordyn')]"
      ]
     },
     "execution_count": 7,
     "metadata": {},
     "output_type": "execute_result"
    }
   ],
   "source": [
    "computeNearestNeighbor(\"Hailey\", users)"
   ]
  }
 ],
 "metadata": {
  "kernelspec": {
   "display_name": "Python 3",
   "language": "python",
   "name": "python3"
  },
  "language_info": {
   "codemirror_mode": {
    "name": "ipython",
    "version": 3
   },
   "file_extension": ".py",
   "mimetype": "text/x-python",
   "name": "python",
   "nbconvert_exporter": "python",
   "pygments_lexer": "ipython3",
   "version": "3.11.3"
  }
 },
 "nbformat": 4,
 "nbformat_minor": 2
}
